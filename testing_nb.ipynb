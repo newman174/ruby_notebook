{
  "cells": [
    {
      "cell_type": "markdown",
      "id": "1642535337019422",
      "metadata": {
        "heading_level": 0,
        "tags": [
          "title"
        ]
      },
      "source": [
        "# Validation NB\n"
      ]
    },
    {
      "cell_type": "markdown",
      "id": "16425353370195198",
      "metadata": {
        "heading_level": 2,
        "tags": [
          "info"
        ]
      },
      "source": [
        "## Info"
      ]
    },
    {
      "cell_type": "markdown",
      "id": "16425353370197866",
      "metadata": {
        "heading_level": 0,
        "tags": [
          "info"
        ]
      },
      "source": [
        "**Title:** Validation NB\n",
        "\n",
        "**Author:** newms\n",
        "\n",
        "**File Name:** validation_nb\n",
        "\n",
        "**Created:** 2022-01-18 14:48:57 -0500\n",
        "\n",
        "**Cells:** 2\n",
        "\n",
        "**Tags:** title, info"
      ]
    },
    {
      "cell_type": "code",
      "execution_count": 4,
      "id": "607bf885",
      "metadata": {},
      "outputs": [
        {
          "data": {
            "text/plain": [
              "false"
            ]
          },
          "execution_count": 4,
          "metadata": {},
          "output_type": "execute_result"
        }
      ],
      "source": [
        "require_relative './lib/notebook'"
      ]
    },
    {
      "cell_type": "code",
      "execution_count": 2,
      "id": "4827e8d8",
      "metadata": {},
      "outputs": [
        {
          "name": "stdout",
          "output_type": "stream",
          "text": [
            "[\"Title: New Notebook\", \"Cells: 2\", \"[0] Markdown Cell\", \"[Tags] title\", [\"# New Notebook\"], \"\", \"[1] Markdown Cell\", \"[Tags] info\", [\"**Authors:** newms\\n\\n\", \"**Created:** 2022-01-20 08:52:55 -0500\\n\\n\", \"**Cells:** 2\\n\\n\", \"**Tags:** title, info\\n\\n\"], \"\"]\n",
            "5\n",
            "#<MarkdownCell:0xb21d2a10 @source=[\"# New Notebook\"], @cell_type=\"markdown\", @heading_level=1, @tags=[\"title\"], @id=\"16426867752430289\", @name=\"title\">\n",
            "File saved as /home/pi/Documents/ruby_notebook/cool_new_name.ipynb\n"
          ]
        }
      ],
      "source": [
        "nb = Notebook.new\n",
        "p nb\n",
        "jsoned = nb.to_json\n",
        "nb2 = Notebook.open(jsoned)\n",
        "nb2.file_name = 'cool_new_name'\n",
        "nb2 << 'yo yo'\n",
        "nb2.add_numbered_subheadings(2)\n",
        "p nb2.size\n",
        "p nb2.cells[0]\n",
        "nb2.save"
      ]
    },
    {
      "cell_type": "code",
      "execution_count": 5,
      "id": "9490c5ee",
      "metadata": {},
      "outputs": [
        {
          "name": "stdout",
          "output_type": "stream",
          "text": [
            "Title: New Notebook\n",
            "Cells: 8\n",
            "[0] Markdown Cell\n",
            "[Tags] title\n",
            "# New Notebook\n",
            "\n",
            "[1] Markdown Cell\n",
            "[Tags] info\n",
            "**Authors:** newms\n",
            "\n",
            "**Created:** 2022-01-20 08:52:55 -0500\n",
            "\n",
            "**Cells:** 8\n",
            "\n",
            "**Tags:** title, info, default, 1, 2\n",
            "\n",
            "\n",
            "[2] Markdown Cell\n",
            "[Tags] default\n",
            "yo yo\n",
            "\n",
            "[3] Markdown Cell\n",
            "[Tags] 1\n",
            "## 01\n",
            "\n",
            "[4] Markdown Cell\n",
            "[Tags] 2\n",
            "## 02\n",
            "\n",
            "[5] Markdown Cell\n",
            "[Tags] default\n",
            "grandson\n",
            "\n",
            "[6] Markdown Cell\n",
            "[Tags] default\n",
            "grandson\n",
            "\n",
            "[7] Markdown Cell\n",
            "[Tags] default\n",
            "grandson\n",
            "\n",
            "File saved as /home/pi/Documents/ruby_notebook/cool_new_name.ipynb\n"
          ]
        }
      ],
      "source": [
        "nb = Notebook.open('cool_new_name.ipynb')\n",
        "# p Notebook.read_json('cool_new_name.ipynb')\n",
        "nb << 'grandson'\n",
        "puts nb.inspect\n",
        "nb.save"
      ]
    },
    {
      "cell_type": "code",
      "execution_count": 6,
      "id": "9a5f17ce",
      "metadata": {},
      "outputs": [
        {
          "name": "stdout",
          "output_type": "stream",
          "text": [
            "Title: New Notebook\n",
            "Cells: 12\n",
            "[0] Markdown Cell\n",
            "[Tags] title\n",
            "# New Notebook\n",
            "\n",
            "[1] Markdown Cell\n",
            "[Tags] info\n",
            "**Authors:** newms\n",
            "\n",
            "**Created:** 2022-01-20 08:53:02 -0500\n",
            "\n",
            "**Cells:** 12\n",
            "\n",
            "**Tags:** title, info, 1, 2, 3, 4, 5, 6, 7, 8, 9, 10\n",
            "\n",
            "\n",
            "[2] Markdown Cell\n",
            "[Tags] 1\n",
            "## 01\n",
            "\n",
            "[3] Markdown Cell\n",
            "[Tags] 2\n",
            "## 02\n",
            "\n",
            "[4] Markdown Cell\n",
            "[Tags] 3\n",
            "## 03\n",
            "\n",
            "[5] Markdown Cell\n",
            "[Tags] 4\n",
            "## 04\n",
            "\n",
            "[6] Markdown Cell\n",
            "[Tags] 5\n",
            "## 05\n",
            "\n",
            "[7] Markdown Cell\n",
            "[Tags] 6\n",
            "## 06\n",
            "\n",
            "[8] Markdown Cell\n",
            "[Tags] 7\n",
            "## 07\n",
            "\n",
            "[9] Markdown Cell\n",
            "[Tags] 8\n",
            "## 08\n",
            "\n",
            "[10] Markdown Cell\n",
            "[Tags] 9\n",
            "## 09\n",
            "\n",
            "[11] Markdown Cell\n",
            "[Tags] 10\n",
            "## 10\n",
            "\n"
          ]
        }
      ],
      "source": [
        "puts Notebook.open(Notebook.new.add_numbered_subheadings(10).to_json).inspect"
      ]
    },
    {
      "cell_type": "code",
      "execution_count": 7,
      "id": "08c553e4",
      "metadata": {},
      "outputs": [
        {
          "data": {
            "text/plain": [
              "true"
            ]
          },
          "execution_count": 7,
          "metadata": {},
          "output_type": "execute_result"
        }
      ],
      "source": [
        "MarkdownCell.new.is_a?(NotebookCell)"
      ]
    },
    {
      "cell_type": "code",
      "execution_count": 8,
      "id": "f8c76056",
      "metadata": {},
      "outputs": [
        {
          "name": "stdout",
          "output_type": "stream",
          "text": [
            "File saved as /home/pi/Documents/ruby_notebook/new_nb.ipynb\n",
            "Title: New Notebook\n",
            "Cells: 3\n",
            "[0] Markdown Cell\n",
            "[Tags] title\n",
            "# New Notebook\n",
            "\n",
            "[1] Markdown Cell\n",
            "[Tags] info\n",
            "**Authors:** newms\n",
            "\n",
            "**Created:** 2022-01-20 08:53:06 -0500\n",
            "\n",
            "**Cells:** 3\n",
            "\n",
            "**Tags:** title, info, default\n",
            "\n",
            "\n",
            "[2] Code Cell\n",
            "[Tags] default\n",
            "puts hello world\n",
            "\n",
            "true\n",
            "#<CodeCell:0xb218a3b4\n",
            " @cell_type=\"code\",\n",
            " @collapsed=false,\n",
            " @execution_count=0,\n",
            " @heading_level=0,\n",
            " @id=\"16426867869586320\",\n",
            " @name=\"\",\n",
            " @outputs=[],\n",
            " @source=[\"puts hello world\"],\n",
            " @tags=[\"default\"]>\n",
            "\n",
            "#<MarkdownCell:0xb2164df8\n",
            " @cell_type=\"markdown\",\n",
            " @heading_level=0,\n",
            " @id=\"16426867870377326\",\n",
            " @name=\"\",\n",
            " @source=[\"\"],\n",
            " @tags=[\"default\"]>\n"
          ]
        }
      ],
      "source": [
        "new_cell = CodeCell.new\n",
        "new_cell.source = 'puts hello world'\n",
        "new_nb = Notebook.new\n",
        "new_nb << new_cell\n",
        "fname = 'new_nb.ipynb'\n",
        "new_nb.file_name = fname\n",
        "new_nb.save\n",
        "new_nb2 = Notebook.open(fname)\n",
        "puts new_nb2.inspect\n",
        "pp new_nb == new_nb2\n",
        "pp CellLoader.open(new_cell.to_h)\n",
        "puts\n",
        "pp CellLoader.open(MarkdownCell.new.to_h)\n",
        "nil"
      ]
    }
  ],
  "metadata": {
    "authors": [
      {
        "name": "newms"
      }
    ],
    "kernelspec": {
      "display_name": "Ruby 3.1.0",
      "language": "ruby",
      "name": "ruby"
    },
    "language_info": {
      "file_extension": ".rb",
      "mimetype": "application/x-ruby",
      "name": "ruby",
      "version": "3.1.0"
    },
    "my_metadata": {
      "created": "2022-01-18 14:48:57 -0500",
      "file_name": "validation_nb.ipynb",
      "title": "Validation NB"
    },
    "orig_nbformat": 4
  },
  "nbformat": 4,
  "nbformat_minor": 5
}
