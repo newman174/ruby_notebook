{
  "cells": [
    {
      "cell_type": "markdown",
      "execution_count": 0,
      "metadata": {
        "group": null,
        "id": null,
        "heading_level": null
      },
      "outputs": [

      ],
      "source": [
        "# New Notebook"
      ]
    },
    {
      "cell_type": "markdown",
      "execution_count": 0,
      "metadata": {
        "group": null,
        "id": null,
        "heading_level": null
      },
      "outputs": [

      ],
      "source": [
        "## Info",
        "**Title:** New Notebook\n\n",
        "**File Name:** file_name\n\n",
        "**Created:** 2022-01-16 16:26:33 -0500\n\n",
        "**Cells:** 1\n"
      ]
    },
    {
      "cell_type": "markdown",
      "execution_count": 0,
      "metadata": {
        "group": null,
        "id": null,
        "heading_level": null
      },
      "outputs": [

      ],
      "source": [
        "yo yo"
      ]
    },
    {
      "cell_type": "markdown",
      "execution_count": 0,
      "metadata": {
        "group": null,
        "id": null,
        "heading_level": 0
      },
      "outputs": [

      ],
      "source": [
        "whats good nephew?"
      ]
    }
  ],
  "metadata": {
    "kernelspec": {
      "display_name": "Ruby 3.0.1",
      "language": "ruby",
      "name": "ruby"
    },
    "language_info": {
      "name": "ruby"
    },
    "orig_nbformat": 4,
    "my_metadata": {
      "title": "New Notebook",
      "file_name": "file_name.ipynb",
      "created": "2022-01-16 16:26:33 -0500"
    }
  },
  "nbformat": 4,
  "nbformat_minor": 2
}