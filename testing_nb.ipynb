{
  "cells": [
    {
      "cell_type": "markdown",
      "id": "1642535337019422",
      "metadata": {
        "heading_level": 0,
        "tags": [
          "title"
        ]
      },
      "source": [
        "# Validation NB\n"
      ]
    },
    {
      "cell_type": "markdown",
      "id": "16425353370195198",
      "metadata": {
        "heading_level": 2,
        "tags": [
          "info"
        ]
      },
      "source": [
        "## Info"
      ]
    },
    {
      "cell_type": "markdown",
      "id": "16425353370197866",
      "metadata": {
        "heading_level": 0,
        "tags": [
          "info"
        ]
      },
      "source": [
        "**Title:** Validation NB\n",
        "\n",
        "**Author:** newms\n",
        "\n",
        "**File Name:** validation_nb\n",
        "\n",
        "**Created:** 2022-01-18 14:48:57 -0500\n",
        "\n",
        "**Cells:** 2\n",
        "\n",
        "**Tags:** title, info"
      ]
    },
    {
      "cell_type": "code",
      "execution_count": 1,
      "id": "607bf885",
      "metadata": {},
      "outputs": [
        {
          "data": {
            "text/plain": [
              "true"
            ]
          },
          "execution_count": 1,
          "metadata": {},
          "output_type": "execute_result"
        }
      ],
      "source": [
        "require_relative './lib/notebook'"
      ]
    },
    {
      "cell_type": "code",
      "execution_count": 2,
      "id": "4827e8d8",
      "metadata": {},
      "outputs": [
        {
          "name": "stdout",
          "output_type": "stream",
          "text": [
            "[\"Title: New Notebook\", \"Cells: 2\", \"[0] Markdown Cell\", \"[Tags] title\", [\"# New Notebook\"], \"\", \"[1] Markdown Cell\", \"[Tags] info\", [\"**Authors:** newms\\n\\n\", \"**Created:** 2022-01-19 13:32:28 -0500\\n\\n\", \"**Cells:** 2\\n\\n\", \"**Tags:** title, info\\n\\n\"], \"\"]\n",
            "5\n",
            "#<NotebookCell:0xb21f6118 @source=[\"# New Notebook\"], @cell_type=\"markdown\", @heading_level=1, @tags=[\"title\"], @id=\"16426171485168626\", @execution_count=nil, @outputs=[], @name=\"title\">\n",
            "File saved as /home/pi/Documents/ruby_notebook/cool_new_name.ipynb\n"
          ]
        }
      ],
      "source": [
        "nb = Notebook.new\n",
        "p nb\n",
        "jsoned = nb.to_json\n",
        "nb2 = Notebook.open(jsoned)\n",
        "nb2.file_name = 'cool_new_name'\n",
        "nb2 << 'yo yo'\n",
        "nb2.add_numbered_subheadings(2)\n",
        "p nb2.size\n",
        "p nb2.cells[0]\n",
        "nb2.save"
      ]
    },
    {
      "cell_type": "code",
      "execution_count": 3,
      "id": "9490c5ee",
      "metadata": {},
      "outputs": [
        {
          "name": "stdout",
          "output_type": "stream",
          "text": [
            "Title: New Notebook\n",
            "Cells: 5\n",
            "[0] Markdown Cell\n",
            "[Tags] title\n",
            "# New Notebook\n",
            "\n",
            "[1] Markdown Cell\n",
            "[Tags] info\n",
            "**Authors:** newms\n",
            "\n",
            "**Created:** 2022-01-19 13:32:28 -0500\n",
            "\n",
            "**Cells:** 5\n",
            "\n",
            "**Tags:** title, info, default, 1, 2\n",
            "\n",
            "\n",
            "[2] Markdown Cell\n",
            "[Tags] default\n",
            "yo yo\n",
            "\n",
            "[3] Markdown Cell\n",
            "[Tags] 1\n",
            "## 01\n",
            "\n",
            "[4] Markdown Cell\n",
            "[Tags] 2\n",
            "## 02\n",
            "\n",
            "File saved as /home/pi/Documents/ruby_notebook/cool_new_name.ipynb\n"
          ]
        }
      ],
      "source": [
        "nb = Notebook.open('cool_new_name.ipynb')\n",
        "# p Notebook.read_json('cool_new_name.ipynb')\n",
        "puts nb.inspect\n",
        "nb << 'grandson'\n",
        "nb.save"
      ]
    },
    {
      "cell_type": "code",
      "execution_count": 4,
      "id": "9a5f17ce",
      "metadata": {},
      "outputs": [
        {
          "name": "stdout",
          "output_type": "stream",
          "text": [
            "Title: New Notebook\n",
            "Cells: 2\n",
            "[0] Markdown Cell\n",
            "[Tags] title\n",
            "# New Notebook\n",
            "\n",
            "[1] Markdown Cell\n",
            "[Tags] info\n",
            "**Authors:** newms\n",
            "\n",
            "**Created:** 2022-01-19 13:32:28 -0500\n",
            "\n",
            "**Cells:** 2\n",
            "\n",
            "**Tags:** title, info\n",
            "\n",
            "\n"
          ]
        }
      ],
      "source": [
        "puts Notebook.new.inspect"
      ]
    }
  ],
  "metadata": {
    "authors": [
      {
        "name": "newms"
      }
    ],
    "kernelspec": {
      "display_name": "Ruby 3.1.0",
      "language": "ruby",
      "name": "ruby"
    },
    "language_info": {
      "file_extension": ".rb",
      "mimetype": "application/x-ruby",
      "name": "ruby",
      "version": "3.1.0"
    },
    "my_metadata": {
      "created": "2022-01-18 14:48:57 -0500",
      "file_name": "validation_nb.ipynb",
      "title": "Validation NB"
    },
    "orig_nbformat": 4
  },
  "nbformat": 4,
  "nbformat_minor": 5
}
