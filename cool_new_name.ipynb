{
  "cells": [
    {
      "cell_type": "markdown",
      "id": "16426171485168626",
      "metadata": {
        "tags": [
          "title"
        ],
        "heading_level": 1,
        "name": "title"
      },
      "source": [
        "# New Notebook"
      ]
    },
    {
      "cell_type": "markdown",
      "id": "16426171486500134",
      "metadata": {
        "tags": [
          "info"
        ],
        "heading_level": 0,
        "name": "info"
      },
      "source": [
        "**Authors:** newms\n\n",
        "**Created:** 2022-01-19 13:32:28 -0500\n\n",
        "**Cells:** 6\n\n",
        "**Tags:** title, info, default, 1, 2\n\n"
      ]
    },
    {
      "cell_type": "markdown",
      "id": "16426171485190477",
      "metadata": {
        "tags": [
          "default"
        ],
        "heading_level": 0,
        "name": ""
      },
      "source": [
        "yo yo"
      ]
    },
    {
      "cell_type": "markdown",
      "id": "16426171485192389",
      "metadata": {
        "tags": [
          "1"
        ],
        "heading_level": 2,
        "name": ""
      },
      "source": [
        "## 01"
      ]
    },
    {
      "cell_type": "markdown",
      "id": "16426171485193865",
      "metadata": {
        "tags": [
          "2"
        ],
        "heading_level": 2,
        "name": ""
      },
      "source": [
        "## 02"
      ]
    },
    {
      "cell_type": "markdown",
      "id": "16426171486498861",
      "metadata": {
        "tags": [
          "default"
        ],
        "heading_level": 0,
        "name": ""
      },
      "source": [
        "grandson"
      ]
    }
  ],
  "metadata": {
    "kernelspec": {
      "display_name": "Ruby 3.1.0",
      "language": "ruby",
      "name": "ruby"
    },
    "language_info": {
      "name": "ruby"
    },
    "orig_nbformat": 4,
    "authors": [
      {
        "name": "newms"
      }
    ],
    "my_metadata": {
      "title": "New Notebook",
      "file_name": "cool_new_name.ipynb",
      "created": "2022-01-19 13:32:28 -0500"
    }
  },
  "nbformat": 4,
  "nbformat_minor": 5
}